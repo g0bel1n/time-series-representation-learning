{
 "cells": [
  {
   "cell_type": "code",
   "execution_count": 1,
   "metadata": {},
   "outputs": [],
   "source": [
    "import os \n",
    "\n",
    "\n",
    "from tqdm import tqdm"
   ]
  },
  {
   "cell_type": "code",
   "execution_count": 3,
   "metadata": {},
   "outputs": [
    {
     "name": "stderr",
     "output_type": "stream",
     "text": [
      "  0%|          | 0/6 [00:00<?, ?it/s]"
     ]
    },
    {
     "name": "stdout",
     "output_type": "stream",
     "text": [
      "args: Namespace(dset='etth1', context_points=24, target_points=96, batch_size=256, num_workers=1, scaler='standard', features='M', use_time_features=0, classification=None, patch_len=16, stride=8, revin=0, n_layers=3, n_heads=16, d_model=128, d_ff=256, dropout=0.2, head_dropout=0, head_type='prediction', n_epochs=30, lr=None, model_id=1, is_train=0, model_type='prediction')\n",
      "patchtst_supervised_cw24_tw96_patch16_stride8_epochs30_model1\n",
      "number of patches: 2\n",
      "score: [array(0.4379412, dtype=float32), array(0.43722746, dtype=float32)]\n",
      "shape: (2785, 96, 7)\n",
      "----------- Complete! -----------\n"
     ]
    },
    {
     "name": "stderr",
     "output_type": "stream",
     "text": [
      " 17%|█▋        | 1/6 [00:06<00:34,  6.98s/it]"
     ]
    },
    {
     "name": "stdout",
     "output_type": "stream",
     "text": [
      "args: Namespace(dset='etth1', context_points=48, target_points=96, batch_size=256, num_workers=1, scaler='standard', features='M', use_time_features=0, classification=None, patch_len=16, stride=8, revin=0, n_layers=3, n_heads=16, d_model=128, d_ff=256, dropout=0.2, head_dropout=0, head_type='prediction', n_epochs=30, lr=None, model_id=1, is_train=0, model_type='prediction')\n",
      "patchtst_supervised_cw48_tw96_patch16_stride8_epochs30_model1\n",
      "number of patches: 5\n",
      "score: [array(0.40144855, dtype=float32), array(0.41491777, dtype=float32)]\n",
      "shape: (2785, 96, 7)\n",
      "----------- Complete! -----------\n"
     ]
    },
    {
     "name": "stderr",
     "output_type": "stream",
     "text": [
      " 33%|███▎      | 2/6 [00:14<00:29,  7.26s/it]"
     ]
    },
    {
     "name": "stdout",
     "output_type": "stream",
     "text": [
      "args: Namespace(dset='etth1', context_points=96, target_points=96, batch_size=256, num_workers=1, scaler='standard', features='M', use_time_features=0, classification=None, patch_len=16, stride=8, revin=0, n_layers=3, n_heads=16, d_model=128, d_ff=256, dropout=0.2, head_dropout=0, head_type='prediction', n_epochs=30, lr=None, model_id=1, is_train=0, model_type='prediction')\n",
      "patchtst_supervised_cw96_tw96_patch16_stride8_epochs30_model1\n",
      "number of patches: 11\n",
      "score: [array(0.4024295, dtype=float32), array(0.41610518, dtype=float32)]\n",
      "shape: (2785, 96, 7)\n",
      "----------- Complete! -----------\n"
     ]
    },
    {
     "name": "stderr",
     "output_type": "stream",
     "text": [
      " 50%|█████     | 3/6 [00:22<00:22,  7.47s/it]"
     ]
    },
    {
     "name": "stdout",
     "output_type": "stream",
     "text": [
      "args: Namespace(dset='etth1', context_points=192, target_points=96, batch_size=256, num_workers=1, scaler='standard', features='M', use_time_features=0, classification=None, patch_len=16, stride=8, revin=0, n_layers=3, n_heads=16, d_model=128, d_ff=256, dropout=0.2, head_dropout=0, head_type='prediction', n_epochs=30, lr=None, model_id=1, is_train=0, model_type='prediction')\n",
      "patchtst_supervised_cw192_tw96_patch16_stride8_epochs30_model1\n",
      "number of patches: 23\n",
      "score: [array(0.39282683, dtype=float32), array(0.408761, dtype=float32)]\n",
      "shape: (2785, 96, 7)\n",
      "----------- Complete! -----------\n"
     ]
    },
    {
     "name": "stderr",
     "output_type": "stream",
     "text": [
      " 67%|██████▋   | 4/6 [00:30<00:15,  7.72s/it]"
     ]
    },
    {
     "name": "stdout",
     "output_type": "stream",
     "text": [
      "args: Namespace(dset='etth1', context_points=336, target_points=96, batch_size=256, num_workers=1, scaler='standard', features='M', use_time_features=0, classification=None, patch_len=16, stride=8, revin=0, n_layers=3, n_heads=16, d_model=128, d_ff=256, dropout=0.2, head_dropout=0, head_type='prediction', n_epochs=30, lr=None, model_id=1, is_train=0, model_type='prediction')\n",
      "patchtst_supervised_cw336_tw96_patch16_stride8_epochs30_model1\n",
      "number of patches: 41\n",
      "score: [array(0.39746287, dtype=float32), array(0.4145929, dtype=float32)]\n",
      "shape: (2785, 96, 7)\n",
      "----------- Complete! -----------\n"
     ]
    },
    {
     "name": "stderr",
     "output_type": "stream",
     "text": [
      " 83%|████████▎ | 5/6 [00:37<00:07,  7.57s/it]"
     ]
    },
    {
     "name": "stdout",
     "output_type": "stream",
     "text": [
      "args: Namespace(dset='etth1', context_points=720, target_points=96, batch_size=256, num_workers=1, scaler='standard', features='M', use_time_features=0, classification=None, patch_len=16, stride=8, revin=0, n_layers=3, n_heads=16, d_model=128, d_ff=256, dropout=0.2, head_dropout=0, head_type='prediction', n_epochs=30, lr=None, model_id=1, is_train=0, model_type='prediction')\n",
      "patchtst_supervised_cw720_tw96_patch16_stride8_epochs30_model1\n",
      "number of patches: 89\n",
      "score: [array(0.3802899, dtype=float32), array(0.4083057, dtype=float32)]\n",
      "shape: (2785, 96, 7)\n",
      "----------- Complete! -----------\n"
     ]
    },
    {
     "name": "stderr",
     "output_type": "stream",
     "text": [
      "100%|██████████| 6/6 [00:46<00:00,  7.76s/it]\n"
     ]
    }
   ],
   "source": [
    "dset = 'etth1'\n",
    "cws = [24, 48, 96, 192, 336, 720]\n",
    "epochs = 30\n",
    "\n",
    "for cw in tqdm(cws):\n",
    "\n",
    "    resnet = f\"python resnet_train.py --dset {dset}  --context_points {cw} --n_epochs {epochs} --batch_size 256\"\n",
    "    patchtst = f\"python patchtst_supervised.py --dset {dset} --batch_size 256 --patch_len 16 --stride 8 --features M --context_points {cw} --revin 0 --n_epochs {epochs}  --is_train 0\"\n",
    "    #os.system(resnet)\n",
    "    os.system(patchtst)\n",
    "\n"
   ]
  },
  {
   "cell_type": "code",
   "execution_count": null,
   "metadata": {},
   "outputs": [],
   "source": [
    "for cw in cws :\n",
    "    patch = f\"time-series-representation-learning/saved_models/etth1/patchtst_supervised/prediction/patchtst_supervised_cw{cw}_tw96_patch16_stride8_epochs30_model1.pth\"\n",
    "    patchtst = f\"python patchtst_supervised.py --dset {dset} --batch_size 256 --patch_len 16 --stride 8 --features M --context_points {cw} --revin 0 --n_epochs {epochs}  --is_train 1 --\"\n",
    "\n",
    "    "
   ]
  },
  {
   "cell_type": "code",
   "execution_count": 11,
   "metadata": {},
   "outputs": [],
   "source": [
    "import pandas as pd"
   ]
  },
  {
   "cell_type": "code",
   "execution_count": 31,
   "metadata": {},
   "outputs": [],
   "source": [
    "df ={}"
   ]
  },
  {
   "cell_type": "code",
   "execution_count": 32,
   "metadata": {},
   "outputs": [
    {
     "name": "stdout",
     "output_type": "stream",
     "text": [
      "{'patchtst_supervised': {'mse': [0.397463], 'mae': [0.414593]}}\n",
      "{'patchtst_supervised': {'mse': [0.397463, 0.392827, 0.401449, 0.402429, 0.437941, 0.38029], 'mae': [0.414593, 0.408761, 0.414918, 0.416105, 0.437227, 0.408306]}, 'resnet': {'mse': [0.670754], 'mae': [0.570142]}}\n"
     ]
    }
   ],
   "source": [
    "path = \"saved_models/etth1\"\n",
    "for _dir in ['patchtst_supervised/prediction', 'resnet/based_model']:\n",
    "    for file_path in ['/'.join((path,_dir , el)) for el in os.listdir('/'.join((path,_dir))) if el.endswith('acc.csv')  ]:\n",
    "        key = _dir.split('/')[0]\n",
    "        if key in df.keys():\n",
    "            mse, mae = pd.read_csv(file_path).values[0]\n",
    "            df[key]['mse'].append(mse)\n",
    "            df[key]['mae'].append(mae)\n",
    "\n",
    "        else :\n",
    "             df[key] = {k : [v] for k,v in zip(['mse', 'mae'], pd.read_csv(file_path).values[0])}\n"
   ]
  },
  {
   "cell_type": "code",
   "execution_count": 33,
   "metadata": {},
   "outputs": [
    {
     "data": {
      "text/plain": [
       "{'patchtst_supervised': {'mse': [0.397463,\n",
       "   0.392827,\n",
       "   0.401449,\n",
       "   0.402429,\n",
       "   0.437941,\n",
       "   0.38029],\n",
       "  'mae': [0.414593, 0.408761, 0.414918, 0.416105, 0.437227, 0.408306]},\n",
       " 'resnet': {'mse': [0.670754,\n",
       "   0.501761,\n",
       "   0.489953,\n",
       "   0.499957,\n",
       "   0.480138,\n",
       "   0.632981],\n",
       "  'mae': [0.570142, 0.481238, 0.462671, 0.493335, 0.489757, 0.585949]}}"
      ]
     },
     "execution_count": 33,
     "metadata": {},
     "output_type": "execute_result"
    }
   ],
   "source": [
    "df"
   ]
  },
  {
   "cell_type": "code",
   "execution_count": 42,
   "metadata": {},
   "outputs": [],
   "source": [
    "_df_mse = pd.DataFrame({k : df[k]['mse'] for k in df.keys()})\n",
    "_df_mse.index = [24, 48, 96, 192, 336, 720]"
   ]
  },
  {
   "cell_type": "code",
   "execution_count": 45,
   "metadata": {},
   "outputs": [
    {
     "data": {
      "text/plain": [
       "<AxesSubplot: >"
      ]
     },
     "execution_count": 45,
     "metadata": {},
     "output_type": "execute_result"
    },
    {
     "data": {
      "image/png": "[encoded data removed]",
      "text/plain": [
       "<Figure size 640x480 with 1 Axes>"
      ]
     },
     "metadata": {},
     "output_type": "display_data"
    }
   ],
   "source": [
    "_df_mse.plot()"
   ]
  },
  {
   "cell_type": "code",
   "execution_count": 46,
   "metadata": {},
   "outputs": [
    {
     "name": "stdout",
     "output_type": "stream",
     "text": [
      "<class 'pandas.core.frame.DataFrame'>\n",
      "Int64Index: 6 entries, 24 to 720\n",
      "Data columns (total 2 columns):\n",
      " #   Column               Non-Null Count  Dtype  \n",
      "---  ------               --------------  -----  \n",
      " 0   patchtst_supervised  6 non-null      float64\n",
      " 1   resnet               6 non-null      float64\n",
      "dtypes: float64(2)\n",
      "memory usage: 144.0 bytes\n"
     ]
    }
   ],
   "source": [
    "_df_mse.info()"
   ]
  },
  {
   "cell_type": "code",
   "execution_count": null,
   "metadata": {},
   "outputs": [],
   "source": []
  }
 ],
 "metadata": {
  "kernelspec": {
   "display_name": "base",
   "language": "python",
   "name": "python3"
  },
  "language_info": {
   "codemirror_mode": {
    "name": "ipython",
    "version": 3
   },
   "file_extension": ".py",
   "mimetype": "text/x-python",
   "name": "python",
   "nbconvert_exporter": "python",
   "pygments_lexer": "ipython3",
   "version": "3.10.4"
  },
  "orig_nbformat": 4,
  "vscode": {
   "interpreter": {
    "hash": "3fa046f995eb80ac40c0869a1f9df46519f4ada8b8c395ef25dd1aa1a1a2fc63"
   }
  }
 },
 "nbformat": 4,
 "nbformat_minor": 2
}
