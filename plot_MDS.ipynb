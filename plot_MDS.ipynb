{
 "cells": [
  {
   "cell_type": "code",
   "execution_count": 2,
   "metadata": {},
   "outputs": [],
   "source": [
    "from datautils import get_dls\n",
    "from src.models.resnet import ResNet\n",
    "from src.models.patchTST import PatchTST\n",
    "from src.learner import  transfer_weights\n",
    "import torch.nn as nn\n",
    "from src.basics import set_device\n",
    "import torch\n",
    "\n",
    "from torchinfo import summary\n",
    "\n",
    "from src.callback.patch_mask import Patch\n",
    "#set_device()\n",
    "\n",
    "class params:\n",
    "    def __init__(self, **kwargs):\n",
    "        for key in kwargs:\n",
    "            setattr(self, key, kwargs[key])"
   ]
  },
  {
   "cell_type": "code",
   "execution_count": 3,
   "metadata": {},
   "outputs": [],
   "source": [
    "#dls = get_dls(params(batch_size=1, dset='ettm1', num_workers=1, classification=0.05, context_points=336, target_points=2, features='M')) "
   ]
  },
  {
   "cell_type": "code",
   "execution_count": 4,
   "metadata": {},
   "outputs": [],
   "source": [
    "stride, patch_len, cw, dset = 4, 8, 431, 'ham'\n",
    "n_patch = (max(cw, patch_len)-patch_len) // stride + 1    \n",
    "dls = get_dls(params(batch_size=1, dset=dset, num_workers=1, context_points=cw)) \n",
    "\n",
    "model_rsnt = ResNet(1, 'classification', 2, .2)\n",
    "model_ptst = PatchTST(c_in=1,\n",
    "                target_dim=2,\n",
    "                patch_len=patch_len,\n",
    "                stride=stride,\n",
    "                num_patch=n_patch,                \n",
    "                n_layers=3,\n",
    "                n_heads=16,\n",
    "                d_model=128,\n",
    "                shared_embedding=True,\n",
    "                d_ff=256,                        \n",
    "                dropout=.2,\n",
    "                head_dropout=0,\n",
    "                act='relu',\n",
    "                head_type='classification',\n",
    "                res_attention=False\n",
    "                )    "
   ]
  },
  {
   "cell_type": "code",
   "execution_count": null,
   "metadata": {},
   "outputs": [],
   "source": []
  },
  {
   "cell_type": "code",
   "execution_count": 5,
   "metadata": {},
   "outputs": [
    {
     "name": "stdout",
     "output_type": "stream",
     "text": [
      "weights from saved_models/ham/patchtst_supervised/classification/patchtst_supervised_cw431_tw2_patch8_stride4_epochs50_model1.pth successfully transferred!\n",
      "\n",
      "weights from saved_models/ham/resnet/based_model/resnet_cw431_epochs-pretrain50_model1.pth successfully transferred!\n",
      "\n"
     ]
    }
   ],
   "source": [
    "w_path_rsnt = 'saved_models/gunpoint/resnet/based_model/resnet_cw150_epochs-pretrain20_model1.pth'\n",
    "w_path_ptst = 'saved_models/gunpoint/patchtst_supervised/classification/patchtst_supervised_cw150_tw2_patch1_stride1_epochs30_model1.pth'\n",
    "w_path_pretrain_ = 'saved_models/ettm1/masked_patchtst/classification/ettm1_patchtst_finetuned_cw336_tw2_patch16_stride8_epochs-finetune20_model1.pth'\n",
    "w_path_resnet_ettm1 = 'saved_models/ettm1/resnet/based_model/resnet_cw336_epochs-pretrain20_model1.pth'\n",
    "w_path_ptst_comp = 'saved_models/computers/patchtst_supervised/classification/patchtst_supervised_cw720_tw2_patch32_stride8_epochs30_model1.pth'\n",
    "w_path_rsnt_comp = 'saved_models/computers/resnet/based_model/resnet_cw720_epochs-pretrain50_model1.pth'\n",
    "\n",
    "w_path_ptst_ham = 'saved_models/ham/patchtst_supervised/classification/patchtst_supervised_cw431_tw2_patch8_stride4_epochs50_model1.pth'\n",
    "w_path_rsnt_ham = 'saved_models/ham/resnet/based_model/resnet_cw431_epochs-pretrain50_model1.pth'\n",
    "\n",
    "\n",
    "w_path_ptst_ = f'saved_models/{dset}/patchtst_supervised/classification/patchtst_supervised_cw{cw}_tw2_patch{patch_len}_stride{stride}_epochs50_model1.pth'\n",
    "w_path_rsnt_ = f'saved_models/{dset}/resnet/based_model/resnet_cw{cw}_epochs-pretrain50_model1.pth'\n",
    "\n",
    "model_ptst = transfer_weights(weights_path=w_path_ptst_, model=model_ptst, exclude_head=False, device='cuda')\n",
    "model_rsnt = transfer_weights(weights_path=w_path_rsnt_, model=model_rsnt, exclude_head=False, device='cuda')\n",
    "\n"
   ]
  },
  {
   "cell_type": "code",
   "execution_count": 10,
   "metadata": {},
   "outputs": [
    {
     "data": {
      "text/plain": [
       "=================================================================\n",
       "Layer (type:depth-idx)                   Param #\n",
       "=================================================================\n",
       "ResNet                                   --\n",
       "├─ResNetBlock: 1-1                       --\n",
       "│    └─Conv1d: 2-1                       512\n",
       "│    └─BatchNorm1d: 2-2                  128\n",
       "│    └─Conv1d: 2-3                       20,480\n",
       "│    └─BatchNorm1d: 2-4                  128\n",
       "│    └─Conv1d: 2-5                       12,288\n",
       "│    └─BatchNorm1d: 2-6                  128\n",
       "│    └─Sequential: 2-7                   --\n",
       "│    │    └─Conv1d: 3-1                  64\n",
       "│    │    └─BatchNorm1d: 3-2             128\n",
       "├─ResNetBlock: 1-2                       --\n",
       "│    └─Conv1d: 2-8                       65,536\n",
       "│    └─BatchNorm1d: 2-9                  256\n",
       "│    └─Conv1d: 2-10                      81,920\n",
       "│    └─BatchNorm1d: 2-11                 256\n",
       "│    └─Conv1d: 2-12                      49,152\n",
       "│    └─BatchNorm1d: 2-13                 256\n",
       "│    └─Sequential: 2-14                  --\n",
       "│    │    └─Conv1d: 3-3                  8,192\n",
       "│    │    └─BatchNorm1d: 3-4             256\n",
       "├─ResNetBlock: 1-3                       --\n",
       "│    └─Conv1d: 2-15                      131,072\n",
       "│    └─BatchNorm1d: 2-16                 256\n",
       "│    └─Conv1d: 2-17                      81,920\n",
       "│    └─BatchNorm1d: 2-18                 256\n",
       "│    └─Conv1d: 2-19                      49,152\n",
       "│    └─BatchNorm1d: 2-20                 256\n",
       "│    └─BatchNorm1d: 2-21                 256\n",
       "├─GAP: 1-4                               --\n",
       "├─Dropout: 1-5                           --\n",
       "├─Linear: 1-6                            258\n",
       "├─Flatten: 1-7                           --\n",
       "=================================================================\n",
       "Total params: 503,106\n",
       "Trainable params: 503,106\n",
       "Non-trainable params: 0\n",
       "================================================================="
      ]
     },
     "execution_count": 10,
     "metadata": {},
     "output_type": "execute_result"
    }
   ],
   "source": [
    "summary(model_rsnt)"
   ]
  },
  {
   "cell_type": "code",
   "execution_count": 478,
   "metadata": {},
   "outputs": [
    {
     "data": {
      "text/plain": [
       "ResNet(\n",
       "  (block1): ResNetBlock(\n",
       "    (conv1): Conv1d(1, 64, kernel_size=(8,), stride=(1,), padding=same, bias=False)\n",
       "    (bn1): BatchNorm1d(64, eps=1e-05, momentum=0.1, affine=True, track_running_stats=True)\n",
       "    (conv2): Conv1d(64, 64, kernel_size=(5,), stride=(1,), padding=same, bias=False)\n",
       "    (bn2): BatchNorm1d(64, eps=1e-05, momentum=0.1, affine=True, track_running_stats=True)\n",
       "    (conv3): Conv1d(64, 64, kernel_size=(3,), stride=(1,), padding=same, bias=False)\n",
       "    (bn3): BatchNorm1d(64, eps=1e-05, momentum=0.1, affine=True, track_running_stats=True)\n",
       "    (shortcut): Sequential(\n",
       "      (0): Conv1d(1, 64, kernel_size=(1,), stride=(1,), padding=same, bias=False)\n",
       "      (1): BatchNorm1d(64, eps=1e-05, momentum=0.1, affine=True, track_running_stats=True)\n",
       "    )\n",
       "  )\n",
       "  (block2): ResNetBlock(\n",
       "    (conv1): Conv1d(64, 128, kernel_size=(8,), stride=(1,), padding=same, bias=False)\n",
       "    (bn1): BatchNorm1d(128, eps=1e-05, momentum=0.1, affine=True, track_running_stats=True)\n",
       "    (conv2): Conv1d(128, 128, kernel_size=(5,), stride=(1,), padding=same, bias=False)\n",
       "    (bn2): BatchNorm1d(128, eps=1e-05, momentum=0.1, affine=True, track_running_stats=True)\n",
       "    (conv3): Conv1d(128, 128, kernel_size=(3,), stride=(1,), padding=same, bias=False)\n",
       "    (bn3): BatchNorm1d(128, eps=1e-05, momentum=0.1, affine=True, track_running_stats=True)\n",
       "    (shortcut): Sequential(\n",
       "      (0): Conv1d(64, 128, kernel_size=(1,), stride=(1,), padding=same, bias=False)\n",
       "      (1): BatchNorm1d(128, eps=1e-05, momentum=0.1, affine=True, track_running_stats=True)\n",
       "    )\n",
       "  )\n",
       "  (block3): ResNetBlock(\n",
       "    (conv1): Conv1d(128, 128, kernel_size=(8,), stride=(1,), padding=same, bias=False)\n",
       "    (bn1): BatchNorm1d(128, eps=1e-05, momentum=0.1, affine=True, track_running_stats=True)\n",
       "    (conv2): Conv1d(128, 128, kernel_size=(5,), stride=(1,), padding=same, bias=False)\n",
       "    (bn2): BatchNorm1d(128, eps=1e-05, momentum=0.1, affine=True, track_running_stats=True)\n",
       "    (conv3): Conv1d(128, 128, kernel_size=(3,), stride=(1,), padding=same, bias=False)\n",
       "    (bn3): BatchNorm1d(128, eps=1e-05, momentum=0.1, affine=True, track_running_stats=True)\n",
       "    (shortcut): BatchNorm1d(128, eps=1e-05, momentum=0.1, affine=True, track_running_stats=True)\n",
       "  )\n",
       "  (gap): GAP()\n",
       "  (dropout): Dropout(p=0.2, inplace=False)\n",
       "  (head): Linear(in_features=128, out_features=2, bias=True)\n",
       "  (flatten): Flatten(start_dim=1, end_dim=-1)\n",
       ")"
      ]
     },
     "execution_count": 478,
     "metadata": {},
     "output_type": "execute_result"
    }
   ],
   "source": [
    "model_ptst.eval()\n",
    "model_rsnt.eval()"
   ]
  },
  {
   "cell_type": "code",
   "execution_count": 479,
   "metadata": {},
   "outputs": [],
   "source": [
    "from scipy.spatial.distance import pdist, cdist, squareform"
   ]
  },
  {
   "cell_type": "code",
   "execution_count": 480,
   "metadata": {},
   "outputs": [],
   "source": [
    "class GAP_Resnet(nn.Module):\n",
    "\n",
    "    def __init__(self, model):\n",
    "        super(GAP_Resnet, self).__init__()\n",
    "\n",
    "        self.model = model\n",
    "        self.flatten = nn.Flatten(start_dim=1)\n",
    "\n",
    "    def _one_forward(self, x):\n",
    "        chan_cat_out = torch.zeros(x.shape[0], x.shape[1], 128, device='cpu')\n",
    "        for chan in range(x.shape[1]):\n",
    "            out = self.model.block1(x[:, chan, :].unsqueeze(1))\n",
    "            out = self.model.block2(out)\n",
    "            out = self.model.block3(out)\n",
    "            out = self.model.gap(out)\n",
    "            chan_cat_out[:, chan, :] = out\n",
    "        return chan_cat_out\n",
    "        \n",
    "\n",
    "    def forward(self, x):\n",
    "        x = x.permute(0,2,1)\n",
    "\n",
    "        out = self._one_forward(x)\n",
    "        out = self.flatten(out)\n",
    "\n",
    "        return out"
   ]
  },
  {
   "cell_type": "code",
   "execution_count": 481,
   "metadata": {},
   "outputs": [],
   "source": [
    "class GAP_PatchTST(nn.Module):\n",
    "\n",
    "    def __init__(self, model):\n",
    "        super(GAP_PatchTST, self).__init__()\n",
    "\n",
    "        self.model = model.backbone\n",
    "        self.patch = Patch(seq_len = cw, patch_len = patch_len, stride = stride, )\n",
    "        self.flatten = nn.Flatten(start_dim=1)\n",
    "\n",
    "    def forward(self, x):\n",
    "        x = self.patch(x)\n",
    "        out = self.model(x)\n",
    "        out = out[:,:,:,-1]            \n",
    "        out = self.flatten(out)  \n",
    "        return out"
   ]
  },
  {
   "cell_type": "code",
   "execution_count": 482,
   "metadata": {},
   "outputs": [],
   "source": [
    "gap_m = GAP_Resnet(model_rsnt)"
   ]
  },
  {
   "cell_type": "code",
   "execution_count": 483,
   "metadata": {},
   "outputs": [],
   "source": [
    "gap_p = GAP_PatchTST(model_ptst)"
   ]
  },
  {
   "cell_type": "code",
   "execution_count": 484,
   "metadata": {},
   "outputs": [
    {
     "data": {
      "text/plain": [
       "GAP_Resnet(\n",
       "  (model): ResNet(\n",
       "    (block1): ResNetBlock(\n",
       "      (conv1): Conv1d(1, 64, kernel_size=(8,), stride=(1,), padding=same, bias=False)\n",
       "      (bn1): BatchNorm1d(64, eps=1e-05, momentum=0.1, affine=True, track_running_stats=True)\n",
       "      (conv2): Conv1d(64, 64, kernel_size=(5,), stride=(1,), padding=same, bias=False)\n",
       "      (bn2): BatchNorm1d(64, eps=1e-05, momentum=0.1, affine=True, track_running_stats=True)\n",
       "      (conv3): Conv1d(64, 64, kernel_size=(3,), stride=(1,), padding=same, bias=False)\n",
       "      (bn3): BatchNorm1d(64, eps=1e-05, momentum=0.1, affine=True, track_running_stats=True)\n",
       "      (shortcut): Sequential(\n",
       "        (0): Conv1d(1, 64, kernel_size=(1,), stride=(1,), padding=same, bias=False)\n",
       "        (1): BatchNorm1d(64, eps=1e-05, momentum=0.1, affine=True, track_running_stats=True)\n",
       "      )\n",
       "    )\n",
       "    (block2): ResNetBlock(\n",
       "      (conv1): Conv1d(64, 128, kernel_size=(8,), stride=(1,), padding=same, bias=False)\n",
       "      (bn1): BatchNorm1d(128, eps=1e-05, momentum=0.1, affine=True, track_running_stats=True)\n",
       "      (conv2): Conv1d(128, 128, kernel_size=(5,), stride=(1,), padding=same, bias=False)\n",
       "      (bn2): BatchNorm1d(128, eps=1e-05, momentum=0.1, affine=True, track_running_stats=True)\n",
       "      (conv3): Conv1d(128, 128, kernel_size=(3,), stride=(1,), padding=same, bias=False)\n",
       "      (bn3): BatchNorm1d(128, eps=1e-05, momentum=0.1, affine=True, track_running_stats=True)\n",
       "      (shortcut): Sequential(\n",
       "        (0): Conv1d(64, 128, kernel_size=(1,), stride=(1,), padding=same, bias=False)\n",
       "        (1): BatchNorm1d(128, eps=1e-05, momentum=0.1, affine=True, track_running_stats=True)\n",
       "      )\n",
       "    )\n",
       "    (block3): ResNetBlock(\n",
       "      (conv1): Conv1d(128, 128, kernel_size=(8,), stride=(1,), padding=same, bias=False)\n",
       "      (bn1): BatchNorm1d(128, eps=1e-05, momentum=0.1, affine=True, track_running_stats=True)\n",
       "      (conv2): Conv1d(128, 128, kernel_size=(5,), stride=(1,), padding=same, bias=False)\n",
       "      (bn2): BatchNorm1d(128, eps=1e-05, momentum=0.1, affine=True, track_running_stats=True)\n",
       "      (conv3): Conv1d(128, 128, kernel_size=(3,), stride=(1,), padding=same, bias=False)\n",
       "      (bn3): BatchNorm1d(128, eps=1e-05, momentum=0.1, affine=True, track_running_stats=True)\n",
       "      (shortcut): BatchNorm1d(128, eps=1e-05, momentum=0.1, affine=True, track_running_stats=True)\n",
       "    )\n",
       "    (gap): GAP()\n",
       "    (dropout): Dropout(p=0.2, inplace=False)\n",
       "    (head): Linear(in_features=128, out_features=2, bias=True)\n",
       "    (flatten): Flatten(start_dim=1, end_dim=-1)\n",
       "  )\n",
       "  (flatten): Flatten(start_dim=1, end_dim=-1)\n",
       ")"
      ]
     },
     "execution_count": 484,
     "metadata": {},
     "output_type": "execute_result"
    }
   ],
   "source": [
    "gap_p.cpu()\n",
    "gap_m.cpu()"
   ]
  },
  {
   "cell_type": "code",
   "execution_count": 504,
   "metadata": {},
   "outputs": [],
   "source": [
    "dl = iter(dls.train)"
   ]
  },
  {
   "cell_type": "code",
   "execution_count": 505,
   "metadata": {},
   "outputs": [],
   "source": [
    "N = len(dl)\n",
    "m = 20\n",
    "X = []\n",
    "X_GAP_ptst = []\n",
    "X_GAP_rsnt = []\n",
    "Y = []\n",
    "n_pos = 0\n",
    "i=0\n",
    "eq = 1\n",
    "while True :\n",
    "    x, y = next(dl)\n",
    "# if i%N ==0 :\n",
    "#     if y == eq :\n",
    "        #eq = 1 - eq\n",
    "    x = x.unsqueeze(-1)\n",
    "    #X.append(x.flatten(start_dim=1))\n",
    "    Y.append(y)\n",
    "    X_GAP_ptst.append(gap_p(x))\n",
    "    X_GAP_rsnt.append(gap_m(x))\n",
    "    X.append(x)\n",
    "    if len(X)>=N:\n",
    "        break\n",
    "\n"
   ]
  },
  {
   "cell_type": "code",
   "execution_count": 506,
   "metadata": {},
   "outputs": [
    {
     "data": {
      "text/plain": [
       "torch.Size([1, 128])"
      ]
     },
     "execution_count": 506,
     "metadata": {},
     "output_type": "execute_result"
    }
   ],
   "source": [
    "X_GAP_rsnt[1].shape"
   ]
  },
  {
   "cell_type": "code",
   "execution_count": 507,
   "metadata": {},
   "outputs": [],
   "source": [
    "def to_numpy(l):\n",
    "    return [el.detach().cpu().numpy( ) for el in l ]"
   ]
  },
  {
   "cell_type": "code",
   "execution_count": 508,
   "metadata": {},
   "outputs": [],
   "source": [
    "X_GAP_ptst = to_numpy(X_GAP_ptst)\n",
    "X_GAP_rsnt = to_numpy(X_GAP_rsnt)"
   ]
  },
  {
   "cell_type": "code",
   "execution_count": 509,
   "metadata": {},
   "outputs": [],
   "source": [
    "Y = to_numpy(Y)\n",
    "X = to_numpy(X)"
   ]
  },
  {
   "cell_type": "code",
   "execution_count": 510,
   "metadata": {},
   "outputs": [],
   "source": [
    "import numpy as np"
   ]
  },
  {
   "cell_type": "code",
   "execution_count": 511,
   "metadata": {},
   "outputs": [],
   "source": [
    "X = np.array(X)\n",
    "X_GAP_ptst = np.array(X_GAP_ptst)\n",
    "X_GAP_rsnt = np.array(X_GAP_rsnt)"
   ]
  },
  {
   "cell_type": "code",
   "execution_count": 512,
   "metadata": {},
   "outputs": [],
   "source": [
    "X = X.reshape(N,cw)\n",
    "X_GAP_rsnt = X_GAP_rsnt.reshape(N,128)\n",
    "X_GAP_ptst = X_GAP_ptst.reshape(N,128)"
   ]
  },
  {
   "cell_type": "code",
   "execution_count": 513,
   "metadata": {},
   "outputs": [],
   "source": [
    "Xdist = squareform(pdist(X))"
   ]
  },
  {
   "cell_type": "code",
   "execution_count": 514,
   "metadata": {},
   "outputs": [],
   "source": [
    "X_GAP_rsnt_dist = squareform(pdist(X_GAP_rsnt))\n",
    "X_GAP_ptst_dist = squareform(pdist(X_GAP_ptst))"
   ]
  },
  {
   "cell_type": "code",
   "execution_count": 515,
   "metadata": {},
   "outputs": [],
   "source": [
    "def stress(Xdist, X_GAP_dist):\n",
    "    d_norm = np.sum(X_GAP_dist**2)\n",
    "    up = np.sum((X_GAP_dist-Xdist)**2)\n",
    "    return np.sqrt(up/d_norm)"
   ]
  },
  {
   "cell_type": "code",
   "execution_count": 516,
   "metadata": {},
   "outputs": [],
   "source": [
    "#stress(Xdist, X_GAP_dist)"
   ]
  },
  {
   "cell_type": "code",
   "execution_count": 517,
   "metadata": {},
   "outputs": [],
   "source": [
    "from sklearn.manifold import MDS\n",
    "\n",
    "mds_gap = MDS(dissimilarity='precomputed', random_state=0)\n",
    "\n",
    "X_ptst_transform = mds_gap.fit_transform(X_GAP_ptst_dist)\n",
    "\n",
    "X_rsnt_transform = mds_gap.fit_transform(X_GAP_rsnt_dist)"
   ]
  },
  {
   "cell_type": "code",
   "execution_count": 518,
   "metadata": {},
   "outputs": [],
   "source": [
    "import matplotlib.pyplot as plt"
   ]
  },
  {
   "cell_type": "code",
   "execution_count": 519,
   "metadata": {},
   "outputs": [
    {
     "data": {
      "image/png": "[encoded data removed]",
      "text/plain": [
       "<Figure size 640x480 with 1 Axes>"
      ]
     },
     "metadata": {},
     "output_type": "display_data"
    }
   ],
   "source": [
    "plt.scatter(X_ptst_transform[:,0], X_ptst_transform[:,1], c=np.ravel(Y))\n",
    "plt.show()"
   ]
  },
  {
   "cell_type": "code",
   "execution_count": 520,
   "metadata": {},
   "outputs": [
    {
     "data": {
      "image/png": "[encoded data removed]",
      "text/plain": [
       "<Figure size 640x480 with 1 Axes>"
      ]
     },
     "metadata": {},
     "output_type": "display_data"
    }
   ],
   "source": [
    "plt.scatter(X_rsnt_transform[:,0], X_rsnt_transform[:,1], c=np.ravel(Y))\n",
    "plt.show()"
   ]
  },
  {
   "cell_type": "code",
   "execution_count": 521,
   "metadata": {},
   "outputs": [],
   "source": [
    "mds_raw = MDS(random_state=0)\n",
    "X_transform = mds_raw.fit_transform(X)"
   ]
  },
  {
   "cell_type": "code",
   "execution_count": 522,
   "metadata": {},
   "outputs": [
    {
     "data": {
      "image/png": "[encoded data removed]",
      "text/plain": [
       "<Figure size 640x480 with 1 Axes>"
      ]
     },
     "metadata": {},
     "output_type": "display_data"
    }
   ],
   "source": [
    "plt.scatter(X_transform[:,0], X_transform[:,1], c=np.ravel(Y))\n",
    "plt.show()"
   ]
  },
  {
   "cell_type": "code",
   "execution_count": null,
   "metadata": {},
   "outputs": [],
   "source": []
  },
  {
   "cell_type": "code",
   "execution_count": null,
   "metadata": {},
   "outputs": [],
   "source": []
  }
 ],
 "metadata": {
  "kernelspec": {
   "display_name": "base",
   "language": "python",
   "name": "python3"
  },
  "language_info": {
   "codemirror_mode": {
    "name": "ipython",
    "version": 3
   },
   "file_extension": ".py",
   "mimetype": "text/x-python",
   "name": "python",
   "nbconvert_exporter": "python",
   "pygments_lexer": "ipython3",
   "version": "3.10.4"
  },
  "orig_nbformat": 4,
  "vscode": {
   "interpreter": {
    "hash": "3fa046f995eb80ac40c0869a1f9df46519f4ada8b8c395ef25dd1aa1a1a2fc63"
   }
  }
 },
 "nbformat": 4,
 "nbformat_minor": 2
}
