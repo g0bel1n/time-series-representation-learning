{
 "cells": [
  {
   "cell_type": "code",
   "execution_count": 42,
   "metadata": {},
   "outputs": [],
   "source": [
    "from datautils import get_dls\n",
    "from src.models.resnet import ResNet\n",
    "from src.learner import  transfer_weights\n",
    "import torch.nn as nn\n",
    "from src.basics import set_device\n",
    "import torch\n",
    "import numpy as np\n",
    "from scipy.interpolate import interp1d\n",
    "import matplotlib.pyplot as plt\n",
    "#set_device()\n",
    "\n",
    "class params:\n",
    "    def __init__(self, **kwargs):\n",
    "        for key in kwargs:\n",
    "            setattr(self, key, kwargs[key])"
   ]
  },
  {
   "cell_type": "code",
   "execution_count": 6,
   "metadata": {},
   "outputs": [],
   "source": [
    "#dls = get_dls(params(batch_size=1, dset='ettm1', num_workers=1, classification=0.05, context_points=366, target_points=2, features='M')) \n",
    "dls = get_dls(params(batch_size=1, dset='computers', num_workers=1, context_points=720)) \n"
   ]
  },
  {
   "cell_type": "code",
   "execution_count": 7,
   "metadata": {},
   "outputs": [],
   "source": [
    "dl_train = iter(dls.train)\n"
   ]
  },
  {
   "cell_type": "code",
   "execution_count": 8,
   "metadata": {},
   "outputs": [],
   "source": [
    "c=0\n",
    "s=0\n",
    "for x,y in dl_train:\n",
    "    s+=y\n",
    "    c+=1"
   ]
  },
  {
   "cell_type": "code",
   "execution_count": 9,
   "metadata": {},
   "outputs": [
    {
     "name": "stdout",
     "output_type": "stream",
     "text": [
      "tensor([[0.5000]])\n"
     ]
    }
   ],
   "source": [
    "print(s/c)"
   ]
  },
  {
   "cell_type": "code",
   "execution_count": 10,
   "metadata": {},
   "outputs": [],
   "source": [
    "model = ResNet(1, 'classification', 2, .2)"
   ]
  },
  {
   "cell_type": "code",
   "execution_count": 11,
   "metadata": {},
   "outputs": [
    {
     "name": "stdout",
     "output_type": "stream",
     "text": [
      "weights from saved_models/computers/resnet/based_model/resnet_cw720_epochs-pretrain50_model1.pth successfully transferred!\n",
      "\n"
     ]
    }
   ],
   "source": [
    "w_path = 'saved_models/gunpoint/resnet/based_model/resnet_cw150_epochs-pretrain20_model1.pth'\n",
    "w_path_rsnt_comp = 'saved_models/computers/resnet/based_model/resnet_cw720_epochs-pretrain50_model1.pth'\n",
    "model = transfer_weights(weights_path=w_path_rsnt_comp, model=model, exclude_head=False, device='cuda')"
   ]
  },
  {
   "cell_type": "code",
   "execution_count": 12,
   "metadata": {},
   "outputs": [
    {
     "data": {
      "text/plain": [
       "ResNet(\n",
       "  (block1): ResNetBlock(\n",
       "    (conv1): Conv1d(1, 64, kernel_size=(8,), stride=(1,), padding=same, bias=False)\n",
       "    (bn1): BatchNorm1d(64, eps=1e-05, momentum=0.1, affine=True, track_running_stats=True)\n",
       "    (conv2): Conv1d(64, 64, kernel_size=(5,), stride=(1,), padding=same, bias=False)\n",
       "    (bn2): BatchNorm1d(64, eps=1e-05, momentum=0.1, affine=True, track_running_stats=True)\n",
       "    (conv3): Conv1d(64, 64, kernel_size=(3,), stride=(1,), padding=same, bias=False)\n",
       "    (bn3): BatchNorm1d(64, eps=1e-05, momentum=0.1, affine=True, track_running_stats=True)\n",
       "    (shortcut): Sequential(\n",
       "      (0): Conv1d(1, 64, kernel_size=(1,), stride=(1,), padding=same, bias=False)\n",
       "      (1): BatchNorm1d(64, eps=1e-05, momentum=0.1, affine=True, track_running_stats=True)\n",
       "    )\n",
       "  )\n",
       "  (block2): ResNetBlock(\n",
       "    (conv1): Conv1d(64, 128, kernel_size=(8,), stride=(1,), padding=same, bias=False)\n",
       "    (bn1): BatchNorm1d(128, eps=1e-05, momentum=0.1, affine=True, track_running_stats=True)\n",
       "    (conv2): Conv1d(128, 128, kernel_size=(5,), stride=(1,), padding=same, bias=False)\n",
       "    (bn2): BatchNorm1d(128, eps=1e-05, momentum=0.1, affine=True, track_running_stats=True)\n",
       "    (conv3): Conv1d(128, 128, kernel_size=(3,), stride=(1,), padding=same, bias=False)\n",
       "    (bn3): BatchNorm1d(128, eps=1e-05, momentum=0.1, affine=True, track_running_stats=True)\n",
       "    (shortcut): Sequential(\n",
       "      (0): Conv1d(64, 128, kernel_size=(1,), stride=(1,), padding=same, bias=False)\n",
       "      (1): BatchNorm1d(128, eps=1e-05, momentum=0.1, affine=True, track_running_stats=True)\n",
       "    )\n",
       "  )\n",
       "  (block3): ResNetBlock(\n",
       "    (conv1): Conv1d(128, 128, kernel_size=(8,), stride=(1,), padding=same, bias=False)\n",
       "    (bn1): BatchNorm1d(128, eps=1e-05, momentum=0.1, affine=True, track_running_stats=True)\n",
       "    (conv2): Conv1d(128, 128, kernel_size=(5,), stride=(1,), padding=same, bias=False)\n",
       "    (bn2): BatchNorm1d(128, eps=1e-05, momentum=0.1, affine=True, track_running_stats=True)\n",
       "    (conv3): Conv1d(128, 128, kernel_size=(3,), stride=(1,), padding=same, bias=False)\n",
       "    (bn3): BatchNorm1d(128, eps=1e-05, momentum=0.1, affine=True, track_running_stats=True)\n",
       "    (shortcut): BatchNorm1d(128, eps=1e-05, momentum=0.1, affine=True, track_running_stats=True)\n",
       "  )\n",
       "  (gap): GAP()\n",
       "  (dropout): Dropout(p=0.2, inplace=False)\n",
       "  (head): Linear(in_features=128, out_features=2, bias=True)\n",
       "  (flatten): Flatten(start_dim=1, end_dim=-1)\n",
       ")"
      ]
     },
     "execution_count": 12,
     "metadata": {},
     "output_type": "execute_result"
    }
   ],
   "source": [
    "model.eval()"
   ]
  },
  {
   "cell_type": "code",
   "execution_count": 13,
   "metadata": {},
   "outputs": [],
   "source": [
    "class ResNetCam(nn.Module):\n",
    "    def __init__(self, base_model):\n",
    "        super(ResNetCam, self).__init__()\n",
    "        self.model = model\n",
    "        self.before_gap = nn.Sequential(model.block1, model.block2, model.block3)\n",
    "\n",
    "    def forward(self, x):\n",
    "\n",
    "        return self.before_gap(x.permute(0, 2, 1)).permute(0, 2, 1), self.model(x)"
   ]
  },
  {
   "cell_type": "code",
   "execution_count": 15,
   "metadata": {},
   "outputs": [],
   "source": [
    "resnet_cam = ResNetCam(model)"
   ]
  },
  {
   "cell_type": "code",
   "execution_count": 18,
   "metadata": {},
   "outputs": [],
   "source": [
    "class_weights = list(model.head.parameters())"
   ]
  },
  {
   "cell_type": "code",
   "execution_count": 19,
   "metadata": {},
   "outputs": [
    {
     "data": {
      "text/plain": [
       "torch.Size([2, 128])"
      ]
     },
     "execution_count": 19,
     "metadata": {},
     "output_type": "execute_result"
    }
   ],
   "source": [
    "class_weights[0].shape"
   ]
  },
  {
   "cell_type": "code",
   "execution_count": 20,
   "metadata": {},
   "outputs": [],
   "source": [
    "def create_cam(x, resnet_cam: ResNetCam, class_weights):\n",
    "    before_gap_out, pred = resnet_cam(x)\n",
    "    predicted_class = pred.argmax(axis=1)\n",
    "    print(\"predicted\", predicted_class)\n",
    "    dominate_class_weight = [el[predicted_class] for el in class_weights]\n",
    "\n",
    "\n",
    "\n",
    "    cam = torch.matmul(before_gap_out, dominate_class_weight[0].reshape(-1, 1)) +  dominate_class_weight[1]\n",
    "\n",
    "    return cam\n"
   ]
  },
  {
   "cell_type": "code",
   "execution_count": 21,
   "metadata": {},
   "outputs": [],
   "source": [
    "dl = iter(dls.train)"
   ]
  },
  {
   "cell_type": "code",
   "execution_count": 22,
   "metadata": {},
   "outputs": [
    {
     "ename": "NameError",
     "evalue": "name 'X' is not defined",
     "output_type": "error",
     "traceback": [
      "\u001b[0;31m---------------------------------------------------------------------------\u001b[0m",
      "\u001b[0;31mNameError\u001b[0m                                 Traceback (most recent call last)",
      "Cell \u001b[0;32mIn[22], line 1\u001b[0m\n\u001b[0;32m----> 1\u001b[0m X\u001b[39m=\u001b[39m X\u001b[39m.\u001b[39munsqueeze(\u001b[39m-\u001b[39m\u001b[39m1\u001b[39m)\n",
      "\u001b[0;31mNameError\u001b[0m: name 'X' is not defined"
     ]
    }
   ],
   "source": [
    "X= X.unsqueeze(-1)"
   ]
  },
  {
   "cell_type": "code",
   "execution_count": 23,
   "metadata": {},
   "outputs": [
    {
     "ename": "NameError",
     "evalue": "name 'X' is not defined",
     "output_type": "error",
     "traceback": [
      "\u001b[0;31m---------------------------------------------------------------------------\u001b[0m",
      "\u001b[0;31mNameError\u001b[0m                                 Traceback (most recent call last)",
      "Cell \u001b[0;32mIn[23], line 1\u001b[0m\n\u001b[0;32m----> 1\u001b[0m cam \u001b[39m=\u001b[39m create_cam(resnet_cam\u001b[39m=\u001b[39mresnet_cam, class_weights\u001b[39m=\u001b[39mclass_weights, x\u001b[39m=\u001b[39mX\u001b[39m.\u001b[39mcuda())\n",
      "\u001b[0;31mNameError\u001b[0m: name 'X' is not defined"
     ]
    }
   ],
   "source": [
    "cam = create_cam(resnet_cam=resnet_cam, class_weights=class_weights, x=X.cuda())"
   ]
  },
  {
   "cell_type": "code",
   "execution_count": 55,
   "metadata": {},
   "outputs": [],
   "source": [
    "def plot_cam(resnet_cam,class_weights, X, Y):\n",
    "    X = X.unsqueeze(-1)    \n",
    "    n = X.shape[1]\n",
    "\n",
    "    cam = create_cam(resnet_cam=resnet_cam, class_weights=class_weights, x=X.cuda()).reshape((n,1)).cpu().detach().numpy()\n",
    "    cam = (cam - np.min(cam))*100/np.max(cam)\n",
    "    x = np.linspace(0, n-1, n)\n",
    "    X = X.cpu().detach().numpy()\n",
    "    X = X.reshape((n, 1))\n",
    "    f = interp1d(range(n), X[:,0])\n",
    "    y = f(x)\n",
    "    f = interp1d(range(n), cam[:,0])\n",
    "    cam_ = f(x).astype(int)\n",
    "    print(f\"True class : {Y.data}\")\n",
    "    plt.scatter(x=x, y=y, c=cam_, s=2, vmin=np.min(cam_), vmax=np.max(cam_), linewidths=1, cmap='seismic')\n",
    "    plt.colorbar()\n",
    "    plt.show()\n"
   ]
  },
  {
   "cell_type": "code",
   "execution_count": 59,
   "metadata": {},
   "outputs": [
    {
     "name": "stdout",
     "output_type": "stream",
     "text": [
      "predicted tensor([[0]], device='cuda:0')\n",
      "True class : tensor([[0]])\n"
     ]
    },
    {
     "data": {
      "image/png": "[encoded data removed]",
      "text/plain": [
       "<Figure size 640x480 with 2 Axes>"
      ]
     },
     "metadata": {},
     "output_type": "display_data"
    }
   ],
   "source": [
    "X, Y = next(dl)\n",
    "plot_cam(resnet_cam, class_weights, X, Y)"
   ]
  },
  {
   "cell_type": "code",
   "execution_count": 181,
   "metadata": {},
   "outputs": [],
   "source": [
    "cam = cam.reshape((150,1)).cpu().detach().numpy()"
   ]
  },
  {
   "cell_type": "code",
   "execution_count": 182,
   "metadata": {},
   "outputs": [],
   "source": [
    "import matplotlib.pyplot as plt\n",
    "import numpy as np\n",
    "from scipy.interpolate import interp1d\n"
   ]
  },
  {
   "cell_type": "code",
   "execution_count": 183,
   "metadata": {},
   "outputs": [],
   "source": [
    "cam = (cam - np.min(cam))*100/np.max(cam)"
   ]
  },
  {
   "cell_type": "code",
   "execution_count": 184,
   "metadata": {},
   "outputs": [],
   "source": [
    "x = np.linspace(0, 149, 2000)"
   ]
  },
  {
   "cell_type": "code",
   "execution_count": 185,
   "metadata": {},
   "outputs": [
    {
     "data": {
      "text/plain": [
       "2000"
      ]
     },
     "execution_count": 185,
     "metadata": {},
     "output_type": "execute_result"
    }
   ],
   "source": [
    "len(x)"
   ]
  },
  {
   "cell_type": "code",
   "execution_count": 186,
   "metadata": {},
   "outputs": [],
   "source": [
    "X = X.cpu().detach().numpy()"
   ]
  },
  {
   "cell_type": "code",
   "execution_count": 187,
   "metadata": {},
   "outputs": [],
   "source": [
    "X = X.reshape((150, 1))"
   ]
  },
  {
   "cell_type": "code",
   "execution_count": 188,
   "metadata": {},
   "outputs": [],
   "source": [
    "f = interp1d(range(150), X[:,0])"
   ]
  },
  {
   "cell_type": "code",
   "execution_count": 189,
   "metadata": {},
   "outputs": [],
   "source": [
    "y = f(x)"
   ]
  },
  {
   "cell_type": "code",
   "execution_count": 190,
   "metadata": {},
   "outputs": [],
   "source": [
    "f = interp1d(range(150), cam[:,0])"
   ]
  },
  {
   "cell_type": "code",
   "execution_count": 191,
   "metadata": {},
   "outputs": [],
   "source": [
    "cam_ = f(x).astype(int)"
   ]
  },
  {
   "cell_type": "code",
   "execution_count": 192,
   "metadata": {},
   "outputs": [
    {
     "data": {
      "text/plain": [
       "2000"
      ]
     },
     "execution_count": 192,
     "metadata": {},
     "output_type": "execute_result"
    }
   ],
   "source": [
    "len(x)"
   ]
  },
  {
   "cell_type": "code",
   "execution_count": 193,
   "metadata": {},
   "outputs": [
    {
     "data": {
      "text/plain": [
       "array([8, 8, 8, ..., 7, 7, 7])"
      ]
     },
     "execution_count": 193,
     "metadata": {},
     "output_type": "execute_result"
    }
   ],
   "source": [
    "cam_"
   ]
  },
  {
   "cell_type": "code",
   "execution_count": 194,
   "metadata": {},
   "outputs": [
    {
     "data": {
      "image/png": "[encoded data removed]",
      "text/plain": [
       "<Figure size 640x480 with 2 Axes>"
      ]
     },
     "metadata": {},
     "output_type": "display_data"
    }
   ],
   "source": [
    "plt.scatter(x=x, y=y, c=cam_, s=2, vmin=0, vmax=106, linewidths=1, cmap='seismic')\n",
    "plt.colorbar()\n",
    "plt.show()"
   ]
  },
  {
   "cell_type": "code",
   "execution_count": 154,
   "metadata": {},
   "outputs": [
    {
     "data": {
      "text/plain": [
       "array([-0.70239067, -0.70084679, -0.69996232, -0.69718081, -0.69458634,\n",
       "       -0.69244242, -0.69285542, -0.69186938, -0.69059932, -0.69200331,\n",
       "       -0.6895448 , -0.68937188, -0.68825352, -0.68804711, -0.68884331,\n",
       "       -0.69069564, -0.69032753, -0.69069666, -0.68958259, -0.69152522,\n",
       "       -0.69018674, -0.69187611, -0.69278497, -0.6922068 , -0.69021207,\n",
       "       -0.68952394, -0.6905576 , -0.68939519, -0.69047791, -0.6890102 ,\n",
       "       -0.68788266, -0.68823051, -0.68623233, -0.68733907, -0.68813682,\n",
       "       -0.68880016, -0.68905377, -0.68917179, -0.68835026, -0.68951595,\n",
       "       -0.68751478, -0.68694514, -0.68758315, -0.68934029, -0.67899925,\n",
       "       -0.63702548, -0.56236959, -0.45081741, -0.30608577, -0.11732343,\n",
       "        0.07660882,  0.26131174,  0.43502915,  0.58489186,  0.73178726,\n",
       "        0.8966794 ,  1.07062376,  1.23967111,  1.37652218,  1.48971772,\n",
       "        1.53818083,  1.54858506,  1.55058479,  1.55567145,  1.56205356,\n",
       "        1.56076527,  1.56956124,  1.57625401,  1.58528244,  1.59095371,\n",
       "        1.59819639,  1.60964668,  1.60986423,  1.61116457,  1.61581802,\n",
       "        1.61276209,  1.61276209,  1.6166743 ,  1.61424708,  1.61596179,\n",
       "        1.61114502,  1.60890079,  1.60906899,  1.60113442,  1.59186041,\n",
       "        1.58795333,  1.58579648,  1.58609855,  1.57660282,  1.56590068,\n",
       "        1.54823029,  1.51351976,  1.46118855,  1.37225115,  1.26834095,\n",
       "        1.15231621,  1.02903354,  0.90126699,  0.76824135,  0.63248986,\n",
       "        0.48245424,  0.29616165,  0.08094856, -0.12741937, -0.31927714,\n",
       "       -0.47163686, -0.59526378, -0.704611  , -0.80616355, -0.86829168,\n",
       "       -0.8889035 , -0.87473047, -0.84138995, -0.80318356, -0.78033113,\n",
       "       -0.76466429, -0.76107401, -0.76086044, -0.76240355, -0.7558828 ,\n",
       "       -0.7549876 , -0.75234312, -0.74637419, -0.74585027, -0.74765384,\n",
       "       -0.74886316, -0.75217104, -0.75656635, -0.76232433, -0.76290452,\n",
       "       -0.76604724, -0.76801771, -0.76653814, -0.76727438, -0.77005744,\n",
       "       -0.77495158, -0.78128886, -0.78826582, -0.79515338, -0.79733026,\n",
       "       -0.80632967, -0.80938572, -0.80579215, -0.80492783, -0.80231744,\n",
       "       -0.80005354, -0.79739964, -0.79817569, -0.79513663])"
      ]
     },
     "execution_count": 154,
     "metadata": {},
     "output_type": "execute_result"
    }
   ],
   "source": []
  },
  {
   "cell_type": "code",
   "execution_count": null,
   "metadata": {},
   "outputs": [],
   "source": []
  }
 ],
 "metadata": {
  "kernelspec": {
   "display_name": "base",
   "language": "python",
   "name": "python3"
  },
  "language_info": {
   "codemirror_mode": {
    "name": "ipython",
    "version": 3
   },
   "file_extension": ".py",
   "mimetype": "text/x-python",
   "name": "python",
   "nbconvert_exporter": "python",
   "pygments_lexer": "ipython3",
   "version": "3.10.4"
  },
  "orig_nbformat": 4,
  "vscode": {
   "interpreter": {
    "hash": "3fa046f995eb80ac40c0869a1f9df46519f4ada8b8c395ef25dd1aa1a1a2fc63"
   }
  }
 },
 "nbformat": 4,
 "nbformat_minor": 2
}
