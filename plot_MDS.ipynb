{
 "cells": [
  {
   "cell_type": "code",
   "execution_count": 1,
   "metadata": {},
   "outputs": [],
   "source": [
    "from datautils import get_dls\n",
    "from src.models.resnet import ResNet\n",
    "from src.models.patchTST import PatchTST\n",
    "from src.learner import  transfer_weights\n",
    "from torchinfo import summary\n",
    "import torch.nn as nn\n",
    "from src.basics import set_device\n",
    "import torch\n",
    "\n",
    "from src.callback.patch_mask import Patch\n",
    "set_device()\n",
    "\n",
    "class params:\n",
    "    def __init__(self, **kwargs):\n",
    "        for key in kwargs:\n",
    "            setattr(self, key, kwargs[key])"
   ]
  },
  {
   "cell_type": "code",
   "execution_count": 2,
   "metadata": {},
   "outputs": [],
   "source": [
    "dls = get_dls(params(batch_size=1, dset='gunpoint', num_workers=1)) "
   ]
  },
  {
   "cell_type": "code",
   "execution_count": null,
   "metadata": {},
   "outputs": [],
   "source": [
    "\n"
   ]
  },
  {
   "cell_type": "code",
   "execution_count": 81,
   "metadata": {},
   "outputs": [],
   "source": [
    "model_rsnt = ResNet(1, 'classification', 2, .2)\n",
    "model_ptst = PatchTST(c_in=1,\n",
    "                target_dim=2,\n",
    "                patch_len=16,\n",
    "                stride=8,\n",
    "                num_patch=17,                \n",
    "                n_layers=3,\n",
    "                n_heads=16,\n",
    "                d_model=128,\n",
    "                shared_embedding=True,\n",
    "                d_ff=256,                        \n",
    "                dropout=.2,\n",
    "                head_dropout=0,\n",
    "                act='relu',\n",
    "                head_type='classification',\n",
    "                res_attention=False\n",
    "                )    "
   ]
  },
  {
   "cell_type": "code",
   "execution_count": 82,
   "metadata": {},
   "outputs": [
    {
     "name": "stdout",
     "output_type": "stream",
     "text": [
      "weights from saved_models/gunpoint/patchtst_supervised/based_model/patchtst_supervised_cw150_tw2_patch16_stride8_epochs30_model1.pth successfully transferred!\n",
      "\n",
      "weights from saved_models/gunpoint/resnet/based_model/resnet_cw150_epochs-pretrain20_model1.pth successfully transferred!\n",
      "\n"
     ]
    }
   ],
   "source": [
    "w_path_rsnt = 'saved_models/gunpoint/resnet/based_model/resnet_cw150_epochs-pretrain20_model1.pth'\n",
    "w_path_ptst = 'saved_models/gunpoint/patchtst_supervised/based_model/patchtst_supervised_cw150_tw2_patch16_stride8_epochs30_model1.pth'\n",
    "model_ptst = transfer_weights(weights_path=w_path_ptst, model=model_ptst, exclude_head=False, device='cuda')\n",
    "model_rsnt = transfer_weights(weights_path=w_path_rsnt, model=model_rsnt, exclude_head=False, device='cuda')\n",
    "\n"
   ]
  },
  {
   "cell_type": "code",
   "execution_count": 83,
   "metadata": {},
   "outputs": [
    {
     "data": {
      "text/plain": [
       "ResNet(\n",
       "  (block1): ResNetBlock(\n",
       "    (conv1): Conv1d(1, 64, kernel_size=(8,), stride=(1,), padding=same, bias=False)\n",
       "    (bn1): BatchNorm1d(64, eps=1e-05, momentum=0.1, affine=True, track_running_stats=True)\n",
       "    (conv2): Conv1d(64, 64, kernel_size=(5,), stride=(1,), padding=same, bias=False)\n",
       "    (bn2): BatchNorm1d(64, eps=1e-05, momentum=0.1, affine=True, track_running_stats=True)\n",
       "    (conv3): Conv1d(64, 64, kernel_size=(3,), stride=(1,), padding=same, bias=False)\n",
       "    (bn3): BatchNorm1d(64, eps=1e-05, momentum=0.1, affine=True, track_running_stats=True)\n",
       "    (shortcut): Sequential(\n",
       "      (0): Conv1d(1, 64, kernel_size=(1,), stride=(1,), padding=same, bias=False)\n",
       "      (1): BatchNorm1d(64, eps=1e-05, momentum=0.1, affine=True, track_running_stats=True)\n",
       "    )\n",
       "  )\n",
       "  (block2): ResNetBlock(\n",
       "    (conv1): Conv1d(64, 128, kernel_size=(8,), stride=(1,), padding=same, bias=False)\n",
       "    (bn1): BatchNorm1d(128, eps=1e-05, momentum=0.1, affine=True, track_running_stats=True)\n",
       "    (conv2): Conv1d(128, 128, kernel_size=(5,), stride=(1,), padding=same, bias=False)\n",
       "    (bn2): BatchNorm1d(128, eps=1e-05, momentum=0.1, affine=True, track_running_stats=True)\n",
       "    (conv3): Conv1d(128, 128, kernel_size=(3,), stride=(1,), padding=same, bias=False)\n",
       "    (bn3): BatchNorm1d(128, eps=1e-05, momentum=0.1, affine=True, track_running_stats=True)\n",
       "    (shortcut): Sequential(\n",
       "      (0): Conv1d(64, 128, kernel_size=(1,), stride=(1,), padding=same, bias=False)\n",
       "      (1): BatchNorm1d(128, eps=1e-05, momentum=0.1, affine=True, track_running_stats=True)\n",
       "    )\n",
       "  )\n",
       "  (block3): ResNetBlock(\n",
       "    (conv1): Conv1d(128, 128, kernel_size=(8,), stride=(1,), padding=same, bias=False)\n",
       "    (bn1): BatchNorm1d(128, eps=1e-05, momentum=0.1, affine=True, track_running_stats=True)\n",
       "    (conv2): Conv1d(128, 128, kernel_size=(5,), stride=(1,), padding=same, bias=False)\n",
       "    (bn2): BatchNorm1d(128, eps=1e-05, momentum=0.1, affine=True, track_running_stats=True)\n",
       "    (conv3): Conv1d(128, 128, kernel_size=(3,), stride=(1,), padding=same, bias=False)\n",
       "    (bn3): BatchNorm1d(128, eps=1e-05, momentum=0.1, affine=True, track_running_stats=True)\n",
       "    (shortcut): BatchNorm1d(128, eps=1e-05, momentum=0.1, affine=True, track_running_stats=True)\n",
       "  )\n",
       "  (gap): GAP()\n",
       "  (dropout): Dropout(p=0.2, inplace=False)\n",
       "  (fc): Linear(in_features=128, out_features=2, bias=True)\n",
       ")"
      ]
     },
     "execution_count": 83,
     "metadata": {},
     "output_type": "execute_result"
    }
   ],
   "source": [
    "model_ptst.eval()\n",
    "model_rsnt.eval()"
   ]
  },
  {
   "cell_type": "code",
   "execution_count": 84,
   "metadata": {},
   "outputs": [],
   "source": [
    "from scipy.spatial.distance import pdist, cdist, squareform"
   ]
  },
  {
   "cell_type": "code",
   "execution_count": 85,
   "metadata": {},
   "outputs": [],
   "source": [
    "class GAP_Resnet(nn.Module):\n",
    "\n",
    "    def __init__(self, model):\n",
    "        super(GAP_Resnet, self).__init__()\n",
    "\n",
    "        self.model = nn.Sequential(model.block1, model.block2, model.block3, model.gap)\n",
    "        \n",
    "\n",
    "    def forward(self, x):\n",
    "        x = x.permute(0,2,1)\n",
    "        out = self.model(x)\n",
    "        return out"
   ]
  },
  {
   "cell_type": "code",
   "execution_count": 86,
   "metadata": {},
   "outputs": [],
   "source": [
    "class GAP_PatchTST(nn.Module):\n",
    "\n",
    "    def __init__(self, model):\n",
    "        super(GAP_PatchTST, self).__init__()\n",
    "\n",
    "        self.model = model.backbone\n",
    "        self.patch = Patch(seq_len = 150, patch_len = 16, stride = 8)\n",
    "        self.flatten = nn.Flatten(start_dim=1)\n",
    "\n",
    "    def forward(self, x):\n",
    "        x = self.patch(x)\n",
    "        out = self.model(x)\n",
    "        out = out[:,:,:,-1]            \n",
    "        out = self.flatten(out)  \n",
    "        return out"
   ]
  },
  {
   "cell_type": "code",
   "execution_count": 87,
   "metadata": {},
   "outputs": [],
   "source": [
    "gap_m = GAP_Resnet(model_rsnt)"
   ]
  },
  {
   "cell_type": "code",
   "execution_count": 88,
   "metadata": {},
   "outputs": [],
   "source": [
    "gap_p = GAP_PatchTST(model_ptst)"
   ]
  },
  {
   "cell_type": "code",
   "execution_count": 111,
   "metadata": {},
   "outputs": [],
   "source": [
    "dl = iter(dls.test)\n"
   ]
  },
  {
   "cell_type": "code",
   "execution_count": 112,
   "metadata": {},
   "outputs": [],
   "source": [
    "N = 30\n",
    "X = []\n",
    "X_GAP_ptst = []\n",
    "X_GAP_rsnt = []\n",
    "Y = []\n",
    "for _ in range(N):\n",
    "    x, y = next(dl)\n",
    "    x = x.unsqueeze(-1)\n",
    "    X.append(x)\n",
    "    Y.append(y)\n",
    "    X_GAP_ptst.append(gap_p(x.cuda()))\n",
    "    X_GAP_rsnt.append(gap_m(x.cuda()))"
   ]
  },
  {
   "cell_type": "code",
   "execution_count": 113,
   "metadata": {},
   "outputs": [],
   "source": [
    "def to_numpy(l):\n",
    "    return [el.detach().cpu().numpy( ) for el in l ]"
   ]
  },
  {
   "cell_type": "code",
   "execution_count": 114,
   "metadata": {},
   "outputs": [],
   "source": [
    "X_GAP_ptst = to_numpy(X_GAP_ptst)\n",
    "X_GAP_rsnt = to_numpy(X_GAP_rsnt)"
   ]
  },
  {
   "cell_type": "code",
   "execution_count": 115,
   "metadata": {},
   "outputs": [],
   "source": [
    "Y = to_numpy(Y)\n",
    "X = to_numpy(X)"
   ]
  },
  {
   "cell_type": "code",
   "execution_count": 116,
   "metadata": {},
   "outputs": [],
   "source": [
    "import numpy as np"
   ]
  },
  {
   "cell_type": "code",
   "execution_count": 117,
   "metadata": {},
   "outputs": [],
   "source": [
    "X = np.array(X)\n",
    "X_GAP_ptst = np.array(X_GAP_ptst)\n",
    "X_GAP_rsnt = np.array(X_GAP_rsnt)"
   ]
  },
  {
   "cell_type": "code",
   "execution_count": 118,
   "metadata": {},
   "outputs": [],
   "source": [
    "X = X.reshape(N,150)\n",
    "X_GAP_rsnt = X_GAP_rsnt.reshape(N,128)\n",
    "X_GAP_ptst = X_GAP_ptst.reshape(N,128)"
   ]
  },
  {
   "cell_type": "code",
   "execution_count": 119,
   "metadata": {},
   "outputs": [],
   "source": [
    "Xdist = squareform(pdist(X))"
   ]
  },
  {
   "cell_type": "code",
   "execution_count": 120,
   "metadata": {},
   "outputs": [],
   "source": [
    "X_GAP_rsnt_dist = squareform(pdist(X_GAP_rsnt))\n",
    "X_GAP_ptst_dist = squareform(pdist(X_GAP_ptst))"
   ]
  },
  {
   "cell_type": "code",
   "execution_count": 121,
   "metadata": {},
   "outputs": [],
   "source": [
    "def stress(Xdist, X_GAP_dist):\n",
    "    d_norm = np.sum(X_GAP_dist**2)\n",
    "    up = np.sum((X_GAP_dist-Xdist)**2)\n",
    "    return np.sqrt(up/d_norm)"
   ]
  },
  {
   "cell_type": "code",
   "execution_count": 122,
   "metadata": {},
   "outputs": [
    {
     "data": {
      "text/plain": [
       "0.7422363588019119"
      ]
     },
     "execution_count": 122,
     "metadata": {},
     "output_type": "execute_result"
    }
   ],
   "source": [
    "stress(Xdist, X_GAP_dist)"
   ]
  },
  {
   "cell_type": "code",
   "execution_count": 123,
   "metadata": {},
   "outputs": [],
   "source": [
    "from sklearn.manifold import MDS\n",
    "\n",
    "mds_gap = MDS(dissimilarity='precomputed', random_state=0)\n",
    "\n",
    "X_ptst_transform = mds_gap.fit_transform(X_GAP_ptst_dist)\n",
    "\n",
    "X_rsnt_transform = mds_gap.fit_transform(X_GAP_rsnt_dist)"
   ]
  },
  {
   "cell_type": "code",
   "execution_count": 124,
   "metadata": {},
   "outputs": [],
   "source": [
    "import matplotlib.pyplot as plt"
   ]
  },
  {
   "cell_type": "code",
   "execution_count": 125,
   "metadata": {},
   "outputs": [
    {
     "data": {
      "image/png": "[encoded data removed]",
      "text/plain": [
       "<Figure size 640x480 with 1 Axes>"
      ]
     },
     "metadata": {},
     "output_type": "display_data"
    }
   ],
   "source": [
    "plt.scatter(X_ptst_transform[:,0], X_ptst_transform[:,1], c=np.ravel(Y))\n",
    "plt.show()"
   ]
  },
  {
   "cell_type": "code",
   "execution_count": 126,
   "metadata": {},
   "outputs": [
    {
     "data": {
      "image/png": "[encoded data removed]",
      "text/plain": [
       "<Figure size 640x480 with 1 Axes>"
      ]
     },
     "metadata": {},
     "output_type": "display_data"
    }
   ],
   "source": [
    "plt.scatter(X_rsnt_transform[:,0], X_rsnt_transform[:,1], c=np.ravel(Y))\n",
    "plt.show()"
   ]
  },
  {
   "cell_type": "code",
   "execution_count": 127,
   "metadata": {},
   "outputs": [],
   "source": [
    "mds_raw = MDS(random_state=0)\n",
    "X_transform = mds_raw.fit_transform(X)"
   ]
  },
  {
   "cell_type": "code",
   "execution_count": 128,
   "metadata": {},
   "outputs": [
    {
     "data": {
      "image/png": "[encoded data removed]",
      "text/plain": [
       "<Figure size 640x480 with 1 Axes>"
      ]
     },
     "metadata": {},
     "output_type": "display_data"
    }
   ],
   "source": [
    "plt.scatter(X_transform[:,0], X_transform[:,1], c=np.ravel(Y))\n",
    "plt.show()"
   ]
  },
  {
   "cell_type": "code",
   "execution_count": null,
   "metadata": {},
   "outputs": [],
   "source": []
  }
 ],
 "metadata": {
  "kernelspec": {
   "display_name": "base",
   "language": "python",
   "name": "python3"
  },
  "language_info": {
   "codemirror_mode": {
    "name": "ipython",
    "version": 3
   },
   "file_extension": ".py",
   "mimetype": "text/x-python",
   "name": "python",
   "nbconvert_exporter": "python",
   "pygments_lexer": "ipython3",
   "version": "3.10.4"
  },
  "orig_nbformat": 4,
  "vscode": {
   "interpreter": {
    "hash": "3fa046f995eb80ac40c0869a1f9df46519f4ada8b8c395ef25dd1aa1a1a2fc63"
   }
  }
 },
 "nbformat": 4,
 "nbformat_minor": 2
}
